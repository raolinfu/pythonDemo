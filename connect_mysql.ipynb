{
 "cells": [
  {
   "cell_type": "code",
   "execution_count": 2,
   "id": "2931c055",
   "metadata": {},
   "outputs": [],
   "source": [
    "# 导入pymysql模块\n",
    "import pymysql\n",
    "# 连接database\n",
    "conn = pymysql.connect(host=\"localhost\",port=3306,user=\"root\",password=\"123456\",database=\"mysql\",charset=\"utf8\")"
   ]
  },
  {
   "cell_type": "code",
   "execution_count": 3,
   "id": "322bd2e3",
   "metadata": {},
   "outputs": [
    {
     "ename": "NameError",
     "evalue": "name '的光标对象' is not defined",
     "output_type": "error",
     "traceback": [
      "\u001b[0;31m---------------------------------------------------------------------------\u001b[0m",
      "\u001b[0;31mNameError\u001b[0m                                 Traceback (most recent call last)",
      "\u001b[0;32m/tmp/ipykernel_543029/111358512.py\u001b[0m in \u001b[0;36m<module>\u001b[0;34m\u001b[0m\n\u001b[0;32m----> 1\u001b[0;31m \u001b[0m的光标对象\u001b[0m\u001b[0;34m\u001b[0m\u001b[0;34m\u001b[0m\u001b[0m\n\u001b[0m\u001b[1;32m      2\u001b[0m \u001b[0mcursor\u001b[0m \u001b[0;34m=\u001b[0m \u001b[0mconn\u001b[0m\u001b[0;34m.\u001b[0m\u001b[0mcursor\u001b[0m\u001b[0;34m(\u001b[0m\u001b[0;34m)\u001b[0m\u001b[0;34m\u001b[0m\u001b[0;34m\u001b[0m\u001b[0m\n\u001b[1;32m      3\u001b[0m \u001b[0;31m# 定义要执行的SQL语句\u001b[0m\u001b[0;34m\u001b[0m\u001b[0;34m\u001b[0m\u001b[0;34m\u001b[0m\u001b[0m\n\u001b[1;32m      4\u001b[0m sql = \"\"\"\n\u001b[1;32m      5\u001b[0m CREATE TABLE USER1 (\n",
      "\u001b[0;31mNameError\u001b[0m: name '的光标对象' is not defined"
     ]
    }
   ],
   "source": [
    "的光标对象\n",
    "cursor = conn.cursor()\n",
    "# 定义要执行的SQL语句\n",
    "sql = \"\"\"\n",
    "CREATE TABLE USER1 (\n",
    "id INT auto_increment PRIMARY KEY ,\n",
    "name CHAR(10) NOT NULL UNIQUE,\n",
    "age TINYINT NOT NULL\n",
    ")ENGINE=innodb DEFAULT CHARSET=utf8;\n",
    "\"\"\"\n",
    "# 执行SQL语句\n",
    "cursor.execute(sql)\n",
    "# 关闭光标对象\n",
    "cursor.close()\n",
    "# 关闭数据库连接\n",
    "conn.close()"
   ]
  }
 ],
 "metadata": {
  "kernelspec": {
   "display_name": "Python 3 (ipykernel)",
   "language": "python",
   "name": "python3"
  },
  "language_info": {
   "codemirror_mode": {
    "name": "ipython",
    "version": 3
   },
   "file_extension": ".py",
   "mimetype": "text/x-python",
   "name": "python",
   "nbconvert_exporter": "python",
   "pygments_lexer": "ipython3",
   "version": "3.8.10"
  }
 },
 "nbformat": 4,
 "nbformat_minor": 5
}
