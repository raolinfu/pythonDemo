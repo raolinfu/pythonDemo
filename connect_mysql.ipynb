{
 "cells": [
  {
   "cell_type": "code",
   "execution_count": 18,
   "id": "2931c055",
   "metadata": {},
   "outputs": [],
   "source": [
    "# 导入pymysql模块\n",
    "import pymysql\n",
    "# 连接database\n",
    "conn = pymysql.connect(host=\"localhost\",\n",
    "                       port=3306,\n",
    "                       user=\"root\",\n",
    "                       password=\"123456\",\n",
    "                       database=\"SCHOOL\",\n",
    "                       charset=\"utf8\")"
   ]
  },
  {
   "cell_type": "code",
   "execution_count": 31,
   "id": "322bd2e3",
   "metadata": {},
   "outputs": [
    {
     "name": "stdout",
     "output_type": "stream",
     "text": [
      "((1, 'rao', None), (2, 'lin', None), (3, 'lin', datetime.date(2021, 12, 25)), (4, 'Mac', datetime.date(2021, 12, 30)), (5, 'Mac', datetime.date(2021, 12, 30)), (6, 'Mac', datetime.date(2021, 12, 30)))\n"
     ]
    }
   ],
   "source": [
    "cursor = conn.cursor()\n",
    "# 定义要执行的SQL语句\n",
    "sql = \"\"\"\n",
    "select * from student\n",
    "\"\"\"\n",
    "# 执行SQL语句\n",
    "cursor.execute(sql)\n",
    "data = cursor.fetchall()\n",
    "print(data)\n"
   ]
  },
  {
   "cell_type": "code",
   "execution_count": 30,
   "id": "5f57f27d",
   "metadata": {},
   "outputs": [],
   "source": [
    "import time\n",
    "# 格式化成2016-03-20 11:45:39形式\n",
    "cur_time = time.strftime(\"%Y-%m-%d %H:%M:%S\", time.localtime())\n",
    "# SQL 插入语句\n",
    "sql = \"\"\"INSERT INTO student(name, submission_date)\n",
    "         VALUES ('Mac', '2021-12-30')\"\"\"\n",
    "try:\n",
    "   # 执行sql语句\n",
    "   cursor.execute(sql)\n",
    "   # 提交到数据库执行\n",
    "   conn.commit()\n",
    "except:\n",
    "   # 如果发生错误则回滚\n",
    "   conn.rollback()"
   ]
  },
  {
   "cell_type": "code",
   "execution_count": null,
   "id": "29f3b9b8",
   "metadata": {},
   "outputs": [],
   "source": [
    "# 关闭光标对象\n",
    "cursor.close()\n",
    "# 关闭数据库连接\n",
    "conn.close()"
   ]
  }
 ],
 "metadata": {
  "kernelspec": {
   "display_name": "Python 3 (ipykernel)",
   "language": "python",
   "name": "python3"
  },
  "language_info": {
   "codemirror_mode": {
    "name": "ipython",
    "version": 3
   },
   "file_extension": ".py",
   "mimetype": "text/x-python",
   "name": "python",
   "nbconvert_exporter": "python",
   "pygments_lexer": "ipython3",
   "version": "3.8.10"
  }
 },
 "nbformat": 4,
 "nbformat_minor": 5
}
